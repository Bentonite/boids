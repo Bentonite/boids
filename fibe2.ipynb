{
 "cells": [
  {
   "cell_type": "code",
   "execution_count": null,
   "id": "7475e46e-ef47-4409-b925-74c9273a440c",
   "metadata": {},
   "outputs": [
    {
     "name": "stdout",
     "output_type": "stream",
     "text": [
      "Han Ding\n"
     ]
    }
   ],
   "source": [
    "print (\"Han Ding\")"
   ]
  },
  {
   "cell_type": "code",
   "execution_count": 12,
   "id": "605025c6-a322-471b-bf7b-5d33bc8f84e0",
   "metadata": {},
   "outputs": [],
   "source": [
    "from random import randint\n",
    "\n",
    "def generate_boid_attributes(lower, upper):\n",
    "    attributes = []\n",
    "    for i in range(10):\n",
    "        attributes.append((randint(lower[0], upper[0]),\n",
    "                       randint(lower[1], upper[1])))\n",
    "    return attributes\n",
    "    \n",
    "assert len(generate_boid_attributes([0,0], [1,1])) == 10:\n",
    "    \n",
    "first_boid_first_attribute = generate_boid_attributes([0,0],[1,1])[0][0]\n",
    "assert first_boid_first_attribute == 0, first_boid_first_attribute"
   ]
  },
  {
   "cell_type": "code",
   "execution_count": null,
   "id": "b554af39-c8a4-4d82-801a-6f0ecbef04ca",
   "metadata": {},
   "outputs": [],
   "source": [
    "lower=[150,300] # x-lower, y-lower\n",
    "upper=[200,400] # x-upper, y-upper\n",
    "\n",
    "pos=generate_boid_attributes(lower,upper)\n",
    "pos"
   ]
  },
  {
   "cell_type": "code",
   "execution_count": null,
   "id": "15151fb2-c28d-4126-8fd1-ad567a78ffdb",
   "metadata": {},
   "outputs": [],
   "source": [
    "lower_v=[5,-10]  # x-lower, y-lower\n",
    "upper_v=[15,0]  # x-upper, y-upper\n",
    "\n",
    "vel=[]\n",
    "for i in range(10):\n",
    "    vel.append((randint(lower_v[0], upper_v[0]),\n",
    "                randint(lower_v[1], upper_v[1])))\n",
    "               \n",
    "vel"
   ]
  },
  {
   "cell_type": "code",
   "execution_count": null,
   "id": "2ffb585b-6a72-4f0e-b3ee-b909a6c2f66e",
   "metadata": {},
   "outputs": [],
   "source": [
    "!pip install matplotlib"
   ]
  },
  {
   "cell_type": "code",
   "execution_count": null,
   "id": "c01555c7-2678-4eb4-ba76-437bf8658433",
   "metadata": {},
   "outputs": [],
   "source": [
    "x_vals = [p[0] for p in pos]\n",
    "y_vals = [p[1] for p in pos]\n",
    "\n",
    "import matplotlib.pyplot as plt\n",
    "\n",
    "plt.xlim(0,1000)\n",
    "plt.ylim(0,700)\n",
    "\n",
    "scat = plt.scatter(x_vals, y_vals)"
   ]
  },
  {
   "cell_type": "code",
   "execution_count": null,
   "id": "d7d9d2bc-6afa-4230-bce8-bc64db05ad76",
   "metadata": {},
   "outputs": [],
   "source": [
    "def update_scatter(frames):\n",
    "    \"\"\"update the scatter function\"\"\"\n",
    "    for i in range(len(pos)):\n",
    "        pos[i] = (pos[i][0] + vel[i][0],\n",
    "                  pos[i][1] + vel[i][1])\n",
    "                \n",
    "    \n",
    "    scat.set_offsets(pos)"
   ]
  },
  {
   "cell_type": "code",
   "execution_count": null,
   "id": "a10571a4-51f9-4a8f-ae6c-36b4a3e541f0",
   "metadata": {},
   "outputs": [],
   "source": [
    "import matplotlib.animation as animation\n",
    "from IPython.display import HTML\n",
    "\n",
    "anim = animation.FuncAnimation(scat.figure,\n",
    "                               update_scatter,\n",
    "                               frames=50,\n",
    "                               interval=50)\n",
    "HTML(anim.to_jshtml())"
   ]
  }
 ],
 "metadata": {
  "kernelspec": {
   "display_name": "Python 3 (ipykernel)",
   "language": "python",
   "name": "python3"
  },
  "language_info": {
   "codemirror_mode": {
    "name": "ipython",
    "version": 3
   },
   "file_extension": ".py",
   "mimetype": "text/x-python",
   "name": "python",
   "nbconvert_exporter": "python",
   "pygments_lexer": "ipython3",
   "version": "3.10.0"
  }
 },
 "nbformat": 4,
 "nbformat_minor": 5
}
