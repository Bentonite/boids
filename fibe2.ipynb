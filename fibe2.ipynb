{
 "cells": [
  {
   "cell_type": "markdown",
   "id": "289d7fbc-37b6-4726-942a-7e8a5727de19",
   "metadata": {},
   "source": [
    "## Pre-commit checklist\n",
    "\n",
    "- [ ] Restart kernel and run all cells\n",
    "- [ ] Clear all output and save the notebook\n",
    "- [ ] run '!nbqa flake8 fibe2.ipynb'"
   ]
  },
  {
   "cell_type": "code",
   "execution_count": null,
   "id": "ff21c86f-662a-40a2-b2cf-bea00f6932e9",
   "metadata": {},
   "outputs": [],
   "source": [
    "import numpy as np\n",
    "import matplotlib.pyplot as plt\n",
    "import matplotlib.animation as animation\n",
    "from IPython.display import HTML\n",
    "\n",
    "print(\"Han Ding\")"
   ]
  },
  {
   "cell_type": "code",
   "execution_count": null,
   "id": "387244c8-6535-4d13-8cf0-d96ba0f63620",
   "metadata": {},
   "outputs": [],
   "source": [
    "def generate_boid_attributes(lower, upper, n=10):\n",
    "    width = upper - lower\n",
    "    attributes = np.random.random_sample(size=(2, n)) * width[:, np.newaxis]\n",
    "    attributes += lower[:, np.newaxis]\n",
    "    \n",
    "    return attributes\n",
    "expected = (2, 10) \n",
    "actual = generate_boid_attributes(np.array([0,0]), np.array([1, 1])).shape\n",
    "assert  expected == actual\n",
    "    \n",
    "#first_boid_first_attribute = generate_boid_attributes([0,0],[1,1])[0][0]\n",
    "#assert first_boid_first_attribute == 0, first_boid_first_attribute"
   ]
  },
  {
   "cell_type": "code",
   "execution_count": null,
   "id": "b554af39-c8a4-4d82-801a-6f0ecbef04ca",
   "metadata": {},
   "outputs": [],
   "source": [
    "lower_p=np.array([150,300]) # x-lower, y-lower\n",
    "upper_p=np.array([200,400]) # x-upper, y-upper\n",
    "\n",
    "positions=generate_boid_attributes(lower_p,upper_p)\n",
    "positions"
   ]
  },
  {
   "cell_type": "code",
   "execution_count": null,
   "id": "15151fb2-c28d-4126-8fd1-ad567a78ffdb",
   "metadata": {},
   "outputs": [],
   "source": [
    "lower_v=np.array([5,-10])  # x-lower, y-lower\n",
    "upper_v=np.array([15,0])  # x-upper, y-upper\n",
    "\n",
    "velocities=generate_boid_attributes(lower_v, upper_v)              \n",
    "velocities"
   ]
  },
  {
   "cell_type": "code",
   "execution_count": null,
   "id": "c01555c7-2678-4eb4-ba76-437bf8658433",
   "metadata": {},
   "outputs": [],
   "source": [
    "plt.xlim(0,4 * upper_p[0]+upper_v[0])\n",
    "plt.ylim(0,4 * upper_p[1]+upper_v[1])\n",
    "\n",
    "scatter = plt.scatter(positions[0, :], positions[1, :])"
   ]
  },
  {
   "cell_type": "code",
   "execution_count": null,
   "id": "f591a044-1368-47ba-b041-af3989a7e1cc",
   "metadata": {},
   "outputs": [],
   "source": [
    "def update_boids(positions, velocities):\n",
    "    \"\"\"Updates the boid positions\"\"\"\n",
    "    positions += velocities"
   ]
  },
  {
   "cell_type": "code",
   "execution_count": null,
   "id": "8c883be7-a835-4aed-a5f8-f070d794ab2b",
   "metadata": {},
   "outputs": [],
   "source": [
    "def animate(frames):\n",
    "    \"\"\"Updates the scatter plot.\"\"\"\n",
    "    update_boids(positions, velocities)\n",
    "    scatter.set_offsets(positions.transpose())"
   ]
  },
  {
   "cell_type": "code",
   "execution_count": null,
   "id": "a10571a4-51f9-4a8f-ae6c-36b4a3e541f0",
   "metadata": {},
   "outputs": [],
   "source": [
    "anim = animation.FuncAnimation(scatter.figure,\n",
    "                               animate,\n",
    "                               #frames=50,\n",
    "                               interval=50)\n",
    "HTML(anim.to_jshtml())"
   ]
  },
  {
   "cell_type": "code",
   "execution_count": null,
   "id": "33b5d6a4-161a-4859-a569-2c7168ee44ae",
   "metadata": {},
   "outputs": [],
   "source": [
    "!nbqa flake8 fibe2.ipynb"
   ]
  }
 ],
 "metadata": {
  "kernelspec": {
   "display_name": "Python 3 (ipykernel)",
   "language": "python",
   "name": "python3"
  },
  "language_info": {
   "codemirror_mode": {
    "name": "ipython",
    "version": 3
   },
   "file_extension": ".py",
   "mimetype": "text/x-python",
   "name": "python",
   "nbconvert_exporter": "python",
   "pygments_lexer": "ipython3",
   "version": "3.10.0"
  }
 },
 "nbformat": 4,
 "nbformat_minor": 5
}
